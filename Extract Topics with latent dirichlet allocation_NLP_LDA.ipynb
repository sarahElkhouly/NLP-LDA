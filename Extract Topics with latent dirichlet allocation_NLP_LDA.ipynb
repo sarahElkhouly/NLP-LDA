{
 "cells": [
  {
   "cell_type": "markdown",
   "id": "f85028f8",
   "metadata": {},
   "source": [
    "## Step 1: Loading Data"
   ]
  },
  {
   "cell_type": "code",
   "execution_count": 33,
   "id": "a55489ce",
   "metadata": {},
   "outputs": [
    {
     "data": {
      "text/html": [
       "<div>\n",
       "<style scoped>\n",
       "    .dataframe tbody tr th:only-of-type {\n",
       "        vertical-align: middle;\n",
       "    }\n",
       "\n",
       "    .dataframe tbody tr th {\n",
       "        vertical-align: top;\n",
       "    }\n",
       "\n",
       "    .dataframe thead th {\n",
       "        text-align: right;\n",
       "    }\n",
       "</style>\n",
       "<table border=\"1\" class=\"dataframe\">\n",
       "  <thead>\n",
       "    <tr style=\"text-align: right;\">\n",
       "      <th></th>\n",
       "      <th>ArticleID</th>\n",
       "      <th>Title</th>\n",
       "      <th>Abstract</th>\n",
       "    </tr>\n",
       "  </thead>\n",
       "  <tbody>\n",
       "    <tr>\n",
       "      <th>0</th>\n",
       "      <td>34153941</td>\n",
       "      <td>Stable Coordination Variability in Overground ...</td>\n",
       "      <td>Coordination variability (CV) is commonly anal...</td>\n",
       "    </tr>\n",
       "    <tr>\n",
       "      <th>1</th>\n",
       "      <td>34153942</td>\n",
       "      <td>Weak Hip Strength Increases Dynamic Knee Valgu...</td>\n",
       "      <td>Clinical Scenario: Dynamic knee valgus (DKV) i...</td>\n",
       "    </tr>\n",
       "    <tr>\n",
       "      <th>2</th>\n",
       "      <td>34153964</td>\n",
       "      <td>Current and Future Projections of Amyotrophic ...</td>\n",
       "      <td>Various methodologies have been reported to as...</td>\n",
       "    </tr>\n",
       "    <tr>\n",
       "      <th>3</th>\n",
       "      <td>34153968</td>\n",
       "      <td>Disparities between Asian and Non-Asian Thromb...</td>\n",
       "      <td>As outcomes for acute ischemic stroke (AIS) va...</td>\n",
       "    </tr>\n",
       "    <tr>\n",
       "      <th>4</th>\n",
       "      <td>34153978</td>\n",
       "      <td>Maternal Factors Predicting Loss to Follow-Up ...</td>\n",
       "      <td>Because hearing loss in children can result in...</td>\n",
       "    </tr>\n",
       "  </tbody>\n",
       "</table>\n",
       "</div>"
      ],
      "text/plain": [
       "   ArticleID                                              Title  \\\n",
       "0   34153941  Stable Coordination Variability in Overground ...   \n",
       "1   34153942  Weak Hip Strength Increases Dynamic Knee Valgu...   \n",
       "2   34153964  Current and Future Projections of Amyotrophic ...   \n",
       "3   34153968  Disparities between Asian and Non-Asian Thromb...   \n",
       "4   34153978  Maternal Factors Predicting Loss to Follow-Up ...   \n",
       "\n",
       "                                            Abstract  \n",
       "0  Coordination variability (CV) is commonly anal...  \n",
       "1  Clinical Scenario: Dynamic knee valgus (DKV) i...  \n",
       "2  Various methodologies have been reported to as...  \n",
       "3  As outcomes for acute ischemic stroke (AIS) va...  \n",
       "4  Because hearing loss in children can result in...  "
      ]
     },
     "execution_count": 33,
     "metadata": {},
     "output_type": "execute_result"
    }
   ],
   "source": [
    "# Importing modules\n",
    "import pandas as pd\n",
    "\n",
    "\n",
    "# Read data into papers\n",
    "docs = pd.read_csv('Pubmed5k.csv')\n",
    "\n",
    "# Print head\n",
    "docs.head()"
   ]
  },
  {
   "cell_type": "code",
   "execution_count": 39,
   "id": "37c692ee",
   "metadata": {},
   "outputs": [
    {
     "data": {
      "text/html": [
       "<div>\n",
       "<style scoped>\n",
       "    .dataframe tbody tr th:only-of-type {\n",
       "        vertical-align: middle;\n",
       "    }\n",
       "\n",
       "    .dataframe tbody tr th {\n",
       "        vertical-align: top;\n",
       "    }\n",
       "\n",
       "    .dataframe thead th {\n",
       "        text-align: right;\n",
       "    }\n",
       "</style>\n",
       "<table border=\"1\" class=\"dataframe\">\n",
       "  <thead>\n",
       "    <tr style=\"text-align: right;\">\n",
       "      <th></th>\n",
       "      <th>title</th>\n",
       "      <th>abstract</th>\n",
       "    </tr>\n",
       "  </thead>\n",
       "  <tbody>\n",
       "    <tr>\n",
       "      <th>0</th>\n",
       "      <td>Stable Coordination Variability in Overground Walking and Running at Preferred and Fixed Speeds.</td>\n",
       "      <td>Coordination variability (CV) is commonly analyzed to understand dynamical qualities of human locomotion. The purpose of this study was to develop guidelines for the number of trials required to inform the calculation of a stable mean lower limb CV during overground locomotion. Three-dimensional lower limb kinematics were captured for 10 recreational runners performing 20 trials each of preferred and fixed speed walking and running. Stance phase CV was calculated for 9 segment and joint couplings using a modified vector coding technique. The number of trials required to achieve a CV mean within 10% of 20 strides average was determined for each coupling and individual. The statistical outputs of mode (walking vs running) and speed (preferred vs fixed) were compared when informed by differing numbers of trials. A minimum of 11 trials were required for stable mean stance phase CV. With fewer than 11 trials, CV was underestimated and led to an oversight of significant differences between mode and speed. Future overground locomotion CV research in healthy populations using a vector coding approach should use 11 trials as a standard minimum. Researchers should be aware of the notable consequences of an insufficient number of trials for overall study findings.</td>\n",
       "    </tr>\n",
       "    <tr>\n",
       "      <th>1</th>\n",
       "      <td>Weak Hip Strength Increases Dynamic Knee Valgus in Single-Leg Tasks of Collegiate Female Athletes.</td>\n",
       "      <td>Clinical Scenario: Dynamic knee valgus (DKV) is a mechanical alteration in the knee that leads to increased risk of injury. Weakness of hip musculature in hip abduction (HABD), extension (HEXT), and external rotation (HER) may contribute to increased DKV in single-leg landing tasks. Focused Clinical Question: Is decreased hip strength associated with an increase in DKV during a single-leg landing task in collegiate female athletes? Summary of Key Findings: Three studies were included: One randomized control trial (RCT), one cohort study, and one case-control. All three studies found that decreases in HABD and HER strength contributed to increased DKV during single-leg landing tasks. One study also found that the hip extensors contribute to controlling hip adduction, a common factor in many mechanisms of injuries. These three studies recommended strengthening HABD, HEXT, and HER to decrease DKV and reduce the risk of injury at the knee. Clinical Bottom Line: Weak HABD, HEXT, and HER contribute to increased DKV in college female athletes, but strengthening HABD, HEXT, and HER can lead to decreases in DKV and, overall, reduce the risk of injury at the knee. Strength of Recommendation: These articles were graded with a level of evidence of III or higher, giving a grade of B strength of recommendation that weak HABD, HEXT, and HER are associated with increased DKV in collegiate female athletes.</td>\n",
       "    </tr>\n",
       "    <tr>\n",
       "      <th>2</th>\n",
       "      <td>Current and Future Projections of Amyotrophic Lateral Sclerosis in the United States Using Administrative Claims Data.</td>\n",
       "      <td>Various methodologies have been reported to assess the real-world epidemiology of amyotrophic lateral sclerosis (ALS) in the United States. The aim of this study was to estimate the prevalence, incidence, and geographical distribution of ALS using administrative claims data and to model future trends in ALS epidemiology.,We performed a retrospective analysis of deidentified administrative claims data for &gt;100 million patients, using 2 separate databases (IBM MarketScan Research Databases and Symphony Health Integrated DataVerse [IDV]), to identify patients with ALS. We evaluated disease prevalence, annual incidence, age- and population-controlled geographical distribution, and expected future trends.,From 2013 to 2017, we identified 7,316 and 35,208 ALS patients from the MarketScan databases and IDV, respectively. Average annual incidence estimates were 1.48 and 1.37 per 100,000 and point prevalence estimates were 6.85 and 5.16 per 100,000 and in the United States for the MarketScan databases and IDV, respectively. Predictive modeling estimates are reported out to the year 2060 and demonstrate an increasing trend in both incident and prevalent cases.,This study provides incidence and prevalence estimates as well as geographical distribution for what the authors believe to be the largest ALS population studied to date. By using 2 separate administrative claims data sets, confidence in our estimates is increased. Future projections based on either database demonstrate an increase in ALS cases, which has also been seen in other large-scale ALS studies. These results can be used to help improve the allocation of healthcare resources in the future.</td>\n",
       "    </tr>\n",
       "    <tr>\n",
       "      <th>3</th>\n",
       "      <td>Disparities between Asian and Non-Asian Thrombolyzed Acute Ischemic Stroke Patients in the Enhanced Control of Hypertension and Thrombolysis Stroke Trial.</td>\n",
       "      <td>As outcomes for acute ischemic stroke (AIS) vary according to clinical profile and management approaches, we aimed to determine disparities in clinical outcomes between Asian and non-Asian participants of the international, Enhanced Control of Hypertension and Thrombolysis Stroke study (ENCHANTED).,ENCHANTED was a multicenter, prospective, partial-factorial, randomized, open trial of low-dose (0.6 mg/kg) versus standard-dose (0.9 mg/kg) alteplase, and intensive (target systolic blood pressure [SBP] 130-140 mm Hg) or guideline-recommended (&lt;180 mm Hg) BP management, in thrombolysis-eligible AIS patients. Logistic regression models were used to examine the associations with outcomes of death or disability (modified Rankin scale [mRS] scores 2-6), major disability (mRS 3-5), death, and intracranial hemorrhage (ICH), with adjustment prognostic factors, alteplase dose, and mean SBP over 1-24 h.,Among 4,551 thrombolyzed AIS patients (mean age 66.7 years, 37.8% female), there were 65.4% Asians who were younger, fewer female, and with less atrial fibrillation, hypercholesterolemia, premorbid symptoms, and concomitant antihypertensive, antithrombotic and statin treatment, and more prior stroke, compared to non-Asians. Frequencies of hypertension, coronary artery disease, and diabetes mellitus were comparable between groups. Asian patients were less likely to be admitted to an acute stroke unit and receive early mobilization by a therapist or rehabilitation but more likely to receive intensive care. There were no significant differences between Asians and non-Asians in functional outcome (defined by mRS scores 2-6 or 3-5; adjusted odds ratio [OR] 1.00, 95% confidence interval [CI] 0.85-1.19 [p = 0.958] and OR 0.95, 95% CI 0.80-1.13 [p = 0.572], respectively), or death (OR 1.25, 95% CI 0.95-1.65; p = 0.116), despite Asians having greater odds of ICH (OR 1.51, 95% CI 1.23-1.86; p = 0.0001) and neurological deterioration within 24 h (OR 1.58, 95% CI 1.18-2.12; p = 0.002).,Within the context of an international clinical trial of thrombolyzed AIS patients, demography, risk factors, management, and odds of early neurological deterioration and ICH, all differ between Asian and non-Asian participants. However, patterns of functional recovery are similar between these major regional groups.</td>\n",
       "    </tr>\n",
       "    <tr>\n",
       "      <th>4</th>\n",
       "      <td>Maternal Factors Predicting Loss to Follow-Up from Newborn Hearing Screenings in New Jersey.</td>\n",
       "      <td>Because hearing loss in children can result in developmental deficits, early detection and intervention are critical. This article identifies a constellation of maternal factors that predict loss to follow-up (LTF) at the point of rescreening-the first follow-up for babies who did not pass the hearing screening performed at birth-through New Jersey's early hearing detection and intervention program. Maternal factors are critical to consider, as mothers are often the primary decision makers around children's health care. All data were obtained from the state's department of health and included babies born between June 2015 and June 2017. Logistic regression was used to predict LTF. Findings indicate that non-Hispanic Black mothers, younger mothers, mothers with previous live births, and mothers with obesity were more likely to be LTF. Hispanic mothers and those enrolled in the state's Special Supplemental Nutrition Program for Women, Infants, and Children (WIC) program were less likely to be LTF. Mothers most at risk for LTF should be targeted for intervention to help children with hearing loss achieve the benefits from early intervention. Being a WIC recipient is a protective factor for LTF; therefore, elements of WIC could be used to reduce the state's LTF rate.</td>\n",
       "    </tr>\n",
       "    <tr>\n",
       "      <th>...</th>\n",
       "      <td>...</td>\n",
       "      <td>...</td>\n",
       "    </tr>\n",
       "    <tr>\n",
       "      <th>4994</th>\n",
       "      <td>Mind the Differences: How Diagnoses and Hospital Characteristics Influence Coordination in Cancer Patient Pathways.</td>\n",
       "      <td>Integrated care pathway (ICP) is a prevailing concept in health care management including cancer care. Though substantial research has been conducted on ICPs knowledge is still deficient explaining how characteristics of diagnose, applied procedures, patient group and organizational context influence specific practicing of ICPs. We studied how coordination takes place in three cancer pathways in four Norwegian hospitals. We identified how core contextual variables of cancer pathways affect complexity and predictability of the performance of each pathway. Thus, we also point at differences in core preconditions for accomplishing coordination of the cancer pathways. In addition, the findings show that three different types of coordination dynamics are present in all three pathways to a divergent degree: programmed chains, consultative hubs and problem-solving webs. Pathway coordination also depends on hierarchical interaction. Lack of corresponding roles in the medical-professional and the administrative-institutional logics presents a challenge for coordination, both within and between hospitals. We recommend that further improvement of specific ICPs by paying attention to what should be standardized and what should be kept flexible, aligning semi-formal and formal structures to pathway processes and identify the professional cancer related background and management style required by the key-roles in pathway management.</td>\n",
       "    </tr>\n",
       "    <tr>\n",
       "      <th>4995</th>\n",
       "      <td>The Ethics of Dying: Deciphering Pandemic-Resultant Pressures That Influence Elderly Patients' Medical Assistance in Dying (MAiD) Decisions.</td>\n",
       "      <td>The objective of medicine is to provide humans with the best possible health outcomes from the beginning to the end of life. If the continuation of life becomes unbearable, some may evaluate procedures to end their lives prematurely. One such procedure is Medical Assistance in Dying (MAiD), and it is hotly contended in many spheres of society. From legal to personal perspectives, there are strong arguments for its implementation and prohibition. This article intends to add to this rich discourse by exploring MAiD in the context of our current pandemic-ridden society as new pressures from social isolation and guilt threaten the autonomy of vulnerable elderly patients. Although autonomy is of chief importance, variables within our current context undermine otherwise independent decisions. Many older individuals are isolated from their social network, resulting in a decline in their mental health. Individuals in such a state are more likely to request a MAiD outcome. Furthermore, overwhelmed healthcare systems may not adequately address this state, which would normally have prompted a mental health intervention. The future of MAiD is far from settled and careful consideration must be given as new contexts come to light, such as those outlined in this paper.</td>\n",
       "    </tr>\n",
       "    <tr>\n",
       "      <th>4996</th>\n",
       "      <td>Research on Adolescents Regarding the Indirect Effect of Depression, Anxiety, and Stress between TikTok Use Disorder and Memory Loss.</td>\n",
       "      <td>This research involved the participation of 3036 Chinese students in the first and second years of senior high school. The adolescents were active users of TikTok. The mediating effect of depression, anxiety, and stress between TikTok use disorder and memory loss was investigated. A forward and backward digit span test was applied to measure memory loss. Structural equation modeling (SEM) was established, and SPSS Amos was used for analysis. The results show a partial mediation effect of depression and anxiety between TikTok use disorder and forward digit span. A partial mediation effect of depression, anxiety, and stress between TikTok use disorder and backward digit span is also shown. These results also show gender differences. Attention should be given to male students, who have more depression, anxiety, and stress than female students; they also have more memory loss.</td>\n",
       "    </tr>\n",
       "    <tr>\n",
       "      <th>4997</th>\n",
       "      <td>Pre-Intervention Effects of a Community-Based Intervention Targeting Alcohol Use (LEF); The Role of Participatory Research and Publicity.</td>\n",
       "      <td>This study explores the impact of the 'pre-intervention effects' of a community-based intervention. This refers to participatory research processes and parallel publicity in the media on changes in alcohol use and relevant mechanisms (rules and norms about alcohol, accessibility of alcohol in a formal setting) among adolescents before any intervention is implemented. The aim was to investigate the contribution of these processes (i.e., pre-intervention effects) to changes in intervention-targeted factors before any actual intervention was implemented. In a quasi-experimental study, data were collected twice by means of self-report among adolescents living in two municipalities (control and experimental condition). A regression analysis showed negative pre-intervention main effects on adolescents' perceived accessibility of alcohol in a formal setting. Moreover, among adolescents aged 15 years and older, the normative decline in strictness of rules and norms was less steep in the experimental condition compared to the control condition. Additionally, adolescents aged 14 years and younger in the experimental condition reported more weekly drinking compared to their peers in the control condition. No differential effects across gender were found. To conclude, applying a co-creational approach in the development of an intervention not only contributes to more effective interventions in the end, but the involvement of and discussions in the community when planning the intervention contribute to changes in targeted factors. This implies that public discussions about the development of intervention strategies should be considered as an essential feature of co-creation in community-based interventions.</td>\n",
       "    </tr>\n",
       "    <tr>\n",
       "      <th>4998</th>\n",
       "      <td>Pharmacists' Role in Older Adults' Medication Regimen Complexity: A Systematic Review.</td>\n",
       "      <td>Medication regimen complexity (MRC) may influence health outcomes, such as hospitalisation, hospital readmission and medication adherence. Pharmacists have been referred to as health professionals with the opportunity to act on MRC reduction. This study aimed to investigate pharmacists' role in studies about older adults' medication regimen complexity. A literature search was performed in PubMed, Web of Science and the Cochrane Library-CENTRAL-up to October 2019. Out of 653 potentially relevant studies, 17 articles met the inclusion criteria for this review. Most studies used the 65-item medication regimen complexity index (MRCI) to assess medication complexity. Pharmacists' role was mainly confined to data collection. It seems that pharmacists' active role in older adults' medication complexity has not been studied in depth so far. However, the few existing interventional ones suggest that, after previous training, regimen simplification is feasible.</td>\n",
       "    </tr>\n",
       "  </tbody>\n",
       "</table>\n",
       "<p>4999 rows × 2 columns</p>\n",
       "</div>"
      ],
      "text/plain": [
       "                                                                                                                                                           title  \\\n",
       "0                                                               Stable Coordination Variability in Overground Walking and Running at Preferred and Fixed Speeds.   \n",
       "1                                                             Weak Hip Strength Increases Dynamic Knee Valgus in Single-Leg Tasks of Collegiate Female Athletes.   \n",
       "2                                         Current and Future Projections of Amyotrophic Lateral Sclerosis in the United States Using Administrative Claims Data.   \n",
       "3     Disparities between Asian and Non-Asian Thrombolyzed Acute Ischemic Stroke Patients in the Enhanced Control of Hypertension and Thrombolysis Stroke Trial.   \n",
       "4                                                                   Maternal Factors Predicting Loss to Follow-Up from Newborn Hearing Screenings in New Jersey.   \n",
       "...                                                                                                                                                          ...   \n",
       "4994                                         Mind the Differences: How Diagnoses and Hospital Characteristics Influence Coordination in Cancer Patient Pathways.   \n",
       "4995                The Ethics of Dying: Deciphering Pandemic-Resultant Pressures That Influence Elderly Patients' Medical Assistance in Dying (MAiD) Decisions.   \n",
       "4996                       Research on Adolescents Regarding the Indirect Effect of Depression, Anxiety, and Stress between TikTok Use Disorder and Memory Loss.   \n",
       "4997                   Pre-Intervention Effects of a Community-Based Intervention Targeting Alcohol Use (LEF); The Role of Participatory Research and Publicity.   \n",
       "4998                                                                      Pharmacists' Role in Older Adults' Medication Regimen Complexity: A Systematic Review.   \n",
       "\n",
       "                                                                                                                                                                                                                                                                                                                                                                                                                                                                                                                                                                                                                                                                                                                                                                                                                                                                                                                                                                                                                                                                                                                                                                                                                                                                                                                                                                                                                                                                                                                                                                                                                                                                                                                                                                                                                                                                                                                                                                                                                                                                                                                                                                                                                                                                                                                                                                                                      abstract  \n",
       "0                                                                                                                                                                                                                                                                                                                                                                                                                                                                                                                                                                                                                                                                                                                                                                                                                                                                                                                                                                                                                                                                                    Coordination variability (CV) is commonly analyzed to understand dynamical qualities of human locomotion. The purpose of this study was to develop guidelines for the number of trials required to inform the calculation of a stable mean lower limb CV during overground locomotion. Three-dimensional lower limb kinematics were captured for 10 recreational runners performing 20 trials each of preferred and fixed speed walking and running. Stance phase CV was calculated for 9 segment and joint couplings using a modified vector coding technique. The number of trials required to achieve a CV mean within 10% of 20 strides average was determined for each coupling and individual. The statistical outputs of mode (walking vs running) and speed (preferred vs fixed) were compared when informed by differing numbers of trials. A minimum of 11 trials were required for stable mean stance phase CV. With fewer than 11 trials, CV was underestimated and led to an oversight of significant differences between mode and speed. Future overground locomotion CV research in healthy populations using a vector coding approach should use 11 trials as a standard minimum. Researchers should be aware of the notable consequences of an insufficient number of trials for overall study findings.  \n",
       "1                                                                                                                                                                                                                                                                                                                                                                                                                                                                                                                                                                                                                                                                                                                                                                                                                                                                                                                                         Clinical Scenario: Dynamic knee valgus (DKV) is a mechanical alteration in the knee that leads to increased risk of injury. Weakness of hip musculature in hip abduction (HABD), extension (HEXT), and external rotation (HER) may contribute to increased DKV in single-leg landing tasks. Focused Clinical Question: Is decreased hip strength associated with an increase in DKV during a single-leg landing task in collegiate female athletes? Summary of Key Findings: Three studies were included: One randomized control trial (RCT), one cohort study, and one case-control. All three studies found that decreases in HABD and HER strength contributed to increased DKV during single-leg landing tasks. One study also found that the hip extensors contribute to controlling hip adduction, a common factor in many mechanisms of injuries. These three studies recommended strengthening HABD, HEXT, and HER to decrease DKV and reduce the risk of injury at the knee. Clinical Bottom Line: Weak HABD, HEXT, and HER contribute to increased DKV in college female athletes, but strengthening HABD, HEXT, and HER can lead to decreases in DKV and, overall, reduce the risk of injury at the knee. Strength of Recommendation: These articles were graded with a level of evidence of III or higher, giving a grade of B strength of recommendation that weak HABD, HEXT, and HER are associated with increased DKV in collegiate female athletes.  \n",
       "2                                                                                                                                                                                                                                                                                                                                                                                                                                                                                                                                                                                                                                                                      Various methodologies have been reported to assess the real-world epidemiology of amyotrophic lateral sclerosis (ALS) in the United States. The aim of this study was to estimate the prevalence, incidence, and geographical distribution of ALS using administrative claims data and to model future trends in ALS epidemiology.,We performed a retrospective analysis of deidentified administrative claims data for >100 million patients, using 2 separate databases (IBM MarketScan Research Databases and Symphony Health Integrated DataVerse [IDV]), to identify patients with ALS. We evaluated disease prevalence, annual incidence, age- and population-controlled geographical distribution, and expected future trends.,From 2013 to 2017, we identified 7,316 and 35,208 ALS patients from the MarketScan databases and IDV, respectively. Average annual incidence estimates were 1.48 and 1.37 per 100,000 and point prevalence estimates were 6.85 and 5.16 per 100,000 and in the United States for the MarketScan databases and IDV, respectively. Predictive modeling estimates are reported out to the year 2060 and demonstrate an increasing trend in both incident and prevalent cases.,This study provides incidence and prevalence estimates as well as geographical distribution for what the authors believe to be the largest ALS population studied to date. By using 2 separate administrative claims data sets, confidence in our estimates is increased. Future projections based on either database demonstrate an increase in ALS cases, which has also been seen in other large-scale ALS studies. These results can be used to help improve the allocation of healthcare resources in the future.  \n",
       "3     As outcomes for acute ischemic stroke (AIS) vary according to clinical profile and management approaches, we aimed to determine disparities in clinical outcomes between Asian and non-Asian participants of the international, Enhanced Control of Hypertension and Thrombolysis Stroke study (ENCHANTED).,ENCHANTED was a multicenter, prospective, partial-factorial, randomized, open trial of low-dose (0.6 mg/kg) versus standard-dose (0.9 mg/kg) alteplase, and intensive (target systolic blood pressure [SBP] 130-140 mm Hg) or guideline-recommended (<180 mm Hg) BP management, in thrombolysis-eligible AIS patients. Logistic regression models were used to examine the associations with outcomes of death or disability (modified Rankin scale [mRS] scores 2-6), major disability (mRS 3-5), death, and intracranial hemorrhage (ICH), with adjustment prognostic factors, alteplase dose, and mean SBP over 1-24 h.,Among 4,551 thrombolyzed AIS patients (mean age 66.7 years, 37.8% female), there were 65.4% Asians who were younger, fewer female, and with less atrial fibrillation, hypercholesterolemia, premorbid symptoms, and concomitant antihypertensive, antithrombotic and statin treatment, and more prior stroke, compared to non-Asians. Frequencies of hypertension, coronary artery disease, and diabetes mellitus were comparable between groups. Asian patients were less likely to be admitted to an acute stroke unit and receive early mobilization by a therapist or rehabilitation but more likely to receive intensive care. There were no significant differences between Asians and non-Asians in functional outcome (defined by mRS scores 2-6 or 3-5; adjusted odds ratio [OR] 1.00, 95% confidence interval [CI] 0.85-1.19 [p = 0.958] and OR 0.95, 95% CI 0.80-1.13 [p = 0.572], respectively), or death (OR 1.25, 95% CI 0.95-1.65; p = 0.116), despite Asians having greater odds of ICH (OR 1.51, 95% CI 1.23-1.86; p = 0.0001) and neurological deterioration within 24 h (OR 1.58, 95% CI 1.18-2.12; p = 0.002).,Within the context of an international clinical trial of thrombolyzed AIS patients, demography, risk factors, management, and odds of early neurological deterioration and ICH, all differ between Asian and non-Asian participants. However, patterns of functional recovery are similar between these major regional groups.  \n",
       "4                                                                                                                                                                                                                                                                                                                                                                                                                                                                                                                                                                                                                                                                                                                                                                                                                                                                                                                                                                                                                                                                          Because hearing loss in children can result in developmental deficits, early detection and intervention are critical. This article identifies a constellation of maternal factors that predict loss to follow-up (LTF) at the point of rescreening-the first follow-up for babies who did not pass the hearing screening performed at birth-through New Jersey's early hearing detection and intervention program. Maternal factors are critical to consider, as mothers are often the primary decision makers around children's health care. All data were obtained from the state's department of health and included babies born between June 2015 and June 2017. Logistic regression was used to predict LTF. Findings indicate that non-Hispanic Black mothers, younger mothers, mothers with previous live births, and mothers with obesity were more likely to be LTF. Hispanic mothers and those enrolled in the state's Special Supplemental Nutrition Program for Women, Infants, and Children (WIC) program were less likely to be LTF. Mothers most at risk for LTF should be targeted for intervention to help children with hearing loss achieve the benefits from early intervention. Being a WIC recipient is a protective factor for LTF; therefore, elements of WIC could be used to reduce the state's LTF rate.  \n",
       "...                                                                                                                                                                                                                                                                                                                                                                                                                                                                                                                                                                                                                                                                                                                                                                                                                                                                                                                                                                                                                                                                                                                                                                                                                                                                                                                                                                                                                                                                                                                                                                                                                                                                                                                                                                                                                                                                                                                                                                                                                                                                                                                                                                                                                                                                                                                                                                                                        ...  \n",
       "4994                                                                                                                                                                                                                                                                                                                                                                                                                                                                                                                                                                                                                                                                                                                                                                                                                                                                                                        Integrated care pathway (ICP) is a prevailing concept in health care management including cancer care. Though substantial research has been conducted on ICPs knowledge is still deficient explaining how characteristics of diagnose, applied procedures, patient group and organizational context influence specific practicing of ICPs. We studied how coordination takes place in three cancer pathways in four Norwegian hospitals. We identified how core contextual variables of cancer pathways affect complexity and predictability of the performance of each pathway. Thus, we also point at differences in core preconditions for accomplishing coordination of the cancer pathways. In addition, the findings show that three different types of coordination dynamics are present in all three pathways to a divergent degree: programmed chains, consultative hubs and problem-solving webs. Pathway coordination also depends on hierarchical interaction. Lack of corresponding roles in the medical-professional and the administrative-institutional logics presents a challenge for coordination, both within and between hospitals. We recommend that further improvement of specific ICPs by paying attention to what should be standardized and what should be kept flexible, aligning semi-formal and formal structures to pathway processes and identify the professional cancer related background and management style required by the key-roles in pathway management.  \n",
       "4995                                                                                                                                                                                                                                                                                                                                                                                                                                                                                                                                                                                                                                                                                                                                                                                                                                                                                                                                                                                                                                                                                The objective of medicine is to provide humans with the best possible health outcomes from the beginning to the end of life. If the continuation of life becomes unbearable, some may evaluate procedures to end their lives prematurely. One such procedure is Medical Assistance in Dying (MAiD), and it is hotly contended in many spheres of society. From legal to personal perspectives, there are strong arguments for its implementation and prohibition. This article intends to add to this rich discourse by exploring MAiD in the context of our current pandemic-ridden society as new pressures from social isolation and guilt threaten the autonomy of vulnerable elderly patients. Although autonomy is of chief importance, variables within our current context undermine otherwise independent decisions. Many older individuals are isolated from their social network, resulting in a decline in their mental health. Individuals in such a state are more likely to request a MAiD outcome. Furthermore, overwhelmed healthcare systems may not adequately address this state, which would normally have prompted a mental health intervention. The future of MAiD is far from settled and careful consideration must be given as new contexts come to light, such as those outlined in this paper.  \n",
       "4996                                                                                                                                                                                                                                                                                                                                                                                                                                                                                                                                                                                                                                                                                                                                                                                                                                                                                                                                                                                                                                                                                                                                                                                                                                                                                                                                                                                                                                                                                     This research involved the participation of 3036 Chinese students in the first and second years of senior high school. The adolescents were active users of TikTok. The mediating effect of depression, anxiety, and stress between TikTok use disorder and memory loss was investigated. A forward and backward digit span test was applied to measure memory loss. Structural equation modeling (SEM) was established, and SPSS Amos was used for analysis. The results show a partial mediation effect of depression and anxiety between TikTok use disorder and forward digit span. A partial mediation effect of depression, anxiety, and stress between TikTok use disorder and backward digit span is also shown. These results also show gender differences. Attention should be given to male students, who have more depression, anxiety, and stress than female students; they also have more memory loss.  \n",
       "4997                                                                                                                                                                                                                                                                                                                                                                                                                                                                                                                                                                                                               This study explores the impact of the 'pre-intervention effects' of a community-based intervention. This refers to participatory research processes and parallel publicity in the media on changes in alcohol use and relevant mechanisms (rules and norms about alcohol, accessibility of alcohol in a formal setting) among adolescents before any intervention is implemented. The aim was to investigate the contribution of these processes (i.e., pre-intervention effects) to changes in intervention-targeted factors before any actual intervention was implemented. In a quasi-experimental study, data were collected twice by means of self-report among adolescents living in two municipalities (control and experimental condition). A regression analysis showed negative pre-intervention main effects on adolescents' perceived accessibility of alcohol in a formal setting. Moreover, among adolescents aged 15 years and older, the normative decline in strictness of rules and norms was less steep in the experimental condition compared to the control condition. Additionally, adolescents aged 14 years and younger in the experimental condition reported more weekly drinking compared to their peers in the control condition. No differential effects across gender were found. To conclude, applying a co-creational approach in the development of an intervention not only contributes to more effective interventions in the end, but the involvement of and discussions in the community when planning the intervention contribute to changes in targeted factors. This implies that public discussions about the development of intervention strategies should be considered as an essential feature of co-creation in community-based interventions.  \n",
       "4998                                                                                                                                                                                                                                                                                                                                                                                                                                                                                                                                                                                                                                                                                                                                                                                                                                                                                                                                                                                                                                                                                                                                                                                                                                                                                                                                                                                                     Medication regimen complexity (MRC) may influence health outcomes, such as hospitalisation, hospital readmission and medication adherence. Pharmacists have been referred to as health professionals with the opportunity to act on MRC reduction. This study aimed to investigate pharmacists' role in studies about older adults' medication regimen complexity. A literature search was performed in PubMed, Web of Science and the Cochrane Library-CENTRAL-up to October 2019. Out of 653 potentially relevant studies, 17 articles met the inclusion criteria for this review. Most studies used the 65-item medication regimen complexity index (MRCI) to assess medication complexity. Pharmacists' role was mainly confined to data collection. It seems that pharmacists' active role in older adults' medication complexity has not been studied in depth so far. However, the few existing interventional ones suggest that, after previous training, regimen simplification is feasible.  \n",
       "\n",
       "[4999 rows x 2 columns]"
      ]
     },
     "metadata": {},
     "output_type": "display_data"
    }
   ],
   "source": [
    "with pd.option_context('display.max_colwidth', None):\n",
    "  display(docs)"
   ]
  },
  {
   "cell_type": "code",
   "execution_count": 34,
   "id": "50ff9adf",
   "metadata": {},
   "outputs": [
    {
     "data": {
      "text/plain": [
       "(4999, 3)"
      ]
     },
     "execution_count": 34,
     "metadata": {},
     "output_type": "execute_result"
    }
   ],
   "source": [
    "docs.shape"
   ]
  },
  {
   "cell_type": "markdown",
   "id": "2a63effe",
   "metadata": {},
   "source": [
    "\n",
    "## Step 2: Data Cleaning"
   ]
  },
  {
   "cell_type": "code",
   "execution_count": 35,
   "id": "ac74a23e",
   "metadata": {},
   "outputs": [
    {
     "data": {
      "text/html": [
       "<div>\n",
       "<style scoped>\n",
       "    .dataframe tbody tr th:only-of-type {\n",
       "        vertical-align: middle;\n",
       "    }\n",
       "\n",
       "    .dataframe tbody tr th {\n",
       "        vertical-align: top;\n",
       "    }\n",
       "\n",
       "    .dataframe thead th {\n",
       "        text-align: right;\n",
       "    }\n",
       "</style>\n",
       "<table border=\"1\" class=\"dataframe\">\n",
       "  <thead>\n",
       "    <tr style=\"text-align: right;\">\n",
       "      <th></th>\n",
       "      <th>articleid</th>\n",
       "      <th>title</th>\n",
       "      <th>abstract</th>\n",
       "    </tr>\n",
       "  </thead>\n",
       "  <tbody>\n",
       "    <tr>\n",
       "      <th>0</th>\n",
       "      <td>34153941</td>\n",
       "      <td>Stable Coordination Variability in Overground ...</td>\n",
       "      <td>Coordination variability (CV) is commonly anal...</td>\n",
       "    </tr>\n",
       "    <tr>\n",
       "      <th>1</th>\n",
       "      <td>34153942</td>\n",
       "      <td>Weak Hip Strength Increases Dynamic Knee Valgu...</td>\n",
       "      <td>Clinical Scenario: Dynamic knee valgus (DKV) i...</td>\n",
       "    </tr>\n",
       "    <tr>\n",
       "      <th>2</th>\n",
       "      <td>34153964</td>\n",
       "      <td>Current and Future Projections of Amyotrophic ...</td>\n",
       "      <td>Various methodologies have been reported to as...</td>\n",
       "    </tr>\n",
       "    <tr>\n",
       "      <th>3</th>\n",
       "      <td>34153968</td>\n",
       "      <td>Disparities between Asian and Non-Asian Thromb...</td>\n",
       "      <td>As outcomes for acute ischemic stroke (AIS) va...</td>\n",
       "    </tr>\n",
       "    <tr>\n",
       "      <th>4</th>\n",
       "      <td>34153978</td>\n",
       "      <td>Maternal Factors Predicting Loss to Follow-Up ...</td>\n",
       "      <td>Because hearing loss in children can result in...</td>\n",
       "    </tr>\n",
       "  </tbody>\n",
       "</table>\n",
       "</div>"
      ],
      "text/plain": [
       "   articleid                                              title  \\\n",
       "0   34153941  Stable Coordination Variability in Overground ...   \n",
       "1   34153942  Weak Hip Strength Increases Dynamic Knee Valgu...   \n",
       "2   34153964  Current and Future Projections of Amyotrophic ...   \n",
       "3   34153968  Disparities between Asian and Non-Asian Thromb...   \n",
       "4   34153978  Maternal Factors Predicting Loss to Follow-Up ...   \n",
       "\n",
       "                                            abstract  \n",
       "0  Coordination variability (CV) is commonly anal...  \n",
       "1  Clinical Scenario: Dynamic knee valgus (DKV) i...  \n",
       "2  Various methodologies have been reported to as...  \n",
       "3  As outcomes for acute ischemic stroke (AIS) va...  \n",
       "4  Because hearing loss in children can result in...  "
      ]
     },
     "execution_count": 35,
     "metadata": {},
     "output_type": "execute_result"
    }
   ],
   "source": [
    "docs.columns= docs.columns.str.lower()\n",
    "docs.head()"
   ]
  },
  {
   "cell_type": "code",
   "execution_count": 36,
   "id": "42977dc8",
   "metadata": {},
   "outputs": [
    {
     "data": {
      "text/html": [
       "<div>\n",
       "<style scoped>\n",
       "    .dataframe tbody tr th:only-of-type {\n",
       "        vertical-align: middle;\n",
       "    }\n",
       "\n",
       "    .dataframe tbody tr th {\n",
       "        vertical-align: top;\n",
       "    }\n",
       "\n",
       "    .dataframe thead th {\n",
       "        text-align: right;\n",
       "    }\n",
       "</style>\n",
       "<table border=\"1\" class=\"dataframe\">\n",
       "  <thead>\n",
       "    <tr style=\"text-align: right;\">\n",
       "      <th></th>\n",
       "      <th>title</th>\n",
       "      <th>abstract</th>\n",
       "    </tr>\n",
       "  </thead>\n",
       "  <tbody>\n",
       "    <tr>\n",
       "      <th>0</th>\n",
       "      <td>Stable Coordination Variability in Overground ...</td>\n",
       "      <td>Coordination variability (CV) is commonly anal...</td>\n",
       "    </tr>\n",
       "    <tr>\n",
       "      <th>1</th>\n",
       "      <td>Weak Hip Strength Increases Dynamic Knee Valgu...</td>\n",
       "      <td>Clinical Scenario: Dynamic knee valgus (DKV) i...</td>\n",
       "    </tr>\n",
       "    <tr>\n",
       "      <th>2</th>\n",
       "      <td>Current and Future Projections of Amyotrophic ...</td>\n",
       "      <td>Various methodologies have been reported to as...</td>\n",
       "    </tr>\n",
       "    <tr>\n",
       "      <th>3</th>\n",
       "      <td>Disparities between Asian and Non-Asian Thromb...</td>\n",
       "      <td>As outcomes for acute ischemic stroke (AIS) va...</td>\n",
       "    </tr>\n",
       "    <tr>\n",
       "      <th>4</th>\n",
       "      <td>Maternal Factors Predicting Loss to Follow-Up ...</td>\n",
       "      <td>Because hearing loss in children can result in...</td>\n",
       "    </tr>\n",
       "  </tbody>\n",
       "</table>\n",
       "</div>"
      ],
      "text/plain": [
       "                                               title  \\\n",
       "0  Stable Coordination Variability in Overground ...   \n",
       "1  Weak Hip Strength Increases Dynamic Knee Valgu...   \n",
       "2  Current and Future Projections of Amyotrophic ...   \n",
       "3  Disparities between Asian and Non-Asian Thromb...   \n",
       "4  Maternal Factors Predicting Loss to Follow-Up ...   \n",
       "\n",
       "                                            abstract  \n",
       "0  Coordination variability (CV) is commonly anal...  \n",
       "1  Clinical Scenario: Dynamic knee valgus (DKV) i...  \n",
       "2  Various methodologies have been reported to as...  \n",
       "3  As outcomes for acute ischemic stroke (AIS) va...  \n",
       "4  Because hearing loss in children can result in...  "
      ]
     },
     "execution_count": 36,
     "metadata": {},
     "output_type": "execute_result"
    }
   ],
   "source": [
    "del docs[\"articleid\"]\n",
    "docs.head()"
   ]
  },
  {
   "cell_type": "code",
   "execution_count": 37,
   "id": "0d7703aa",
   "metadata": {},
   "outputs": [
    {
     "data": {
      "text/plain": [
       "(4999, 2)"
      ]
     },
     "execution_count": 37,
     "metadata": {},
     "output_type": "execute_result"
    }
   ],
   "source": [
    "docs.shape"
   ]
  },
  {
   "cell_type": "markdown",
   "id": "046898c8",
   "metadata": {},
   "source": [
    "### Remove punctuation/lower casing"
   ]
  },
  {
   "cell_type": "markdown",
   "id": "4b512648",
   "metadata": {},
   "source": [
    "Next, let’s perform a simple preprocessing on the content of abstract column to make them more amenable for analysis, and reliable results. To do that, we’ll use a regular expression to remove any punctuation, and then lowercase the text"
   ]
  },
  {
   "cell_type": "code",
   "execution_count": 40,
   "id": "70cdaa15",
   "metadata": {},
   "outputs": [
    {
     "data": {
      "text/plain": [
       "0    coordination variability (cv) is commonly anal...\n",
       "1    clinical scenario: dynamic knee valgus (dkv) i...\n",
       "2    various methodologies have been reported to as...\n",
       "3    as outcomes for acute ischemic stroke (ais) va...\n",
       "4    because hearing loss in children can result in...\n",
       "Name: abstract_processed, dtype: object"
      ]
     },
     "execution_count": 40,
     "metadata": {},
     "output_type": "execute_result"
    }
   ],
   "source": [
    "# Load the regular expression library\n",
    "import re\n",
    "# Remove punctuation\n",
    "docs['abstract_processed'] = \\\n",
    "docs['abstract'].map(lambda x: re.sub('[,\\.!?]', '', x))\n",
    "\n",
    "# Convert the titles to lowercase\n",
    "docs['abstract_processed'] = \\\n",
    "docs['abstract_processed'].map(lambda x: x.lower())\n",
    "\n",
    "# Print out the first rows of docs\n",
    "docs['abstract_processed'].head()"
   ]
  },
  {
   "cell_type": "markdown",
   "id": "03bbe04f",
   "metadata": {},
   "source": [
    "### Tokenize words and further clean-up text\n",
    "Let’s tokenize each sentence into a list of words, removing punctuations and unnecessary characters altogether."
   ]
  },
  {
   "cell_type": "code",
   "execution_count": 41,
   "id": "ec363770",
   "metadata": {},
   "outputs": [
    {
     "name": "stdout",
     "output_type": "stream",
     "text": [
      "['coordination', 'variability', 'cv', 'is', 'commonly', 'analyzed', 'to', 'understand', 'dynamical', 'qualities', 'of', 'human', 'locomotion', 'the', 'purpose', 'of', 'this', 'study', 'was', 'to', 'develop', 'guidelines', 'for', 'the', 'number', 'of', 'trials', 'required', 'to', 'inform']\n"
     ]
    }
   ],
   "source": [
    "import gensim\n",
    "from gensim.utils import simple_preprocess\n",
    "\n",
    "def sent_to_words(sentences):\n",
    "    for sentence in sentences:\n",
    "        yield(gensim.utils.simple_preprocess(str(sentence), deacc=True))  # deacc=True removes punctuations\n",
    "\n",
    "data = docs.abstract_processed.values.tolist()\n",
    "data_words = list(sent_to_words(data))\n",
    "\n",
    "print(data_words[:1][0][:30])"
   ]
  },
  {
   "cell_type": "markdown",
   "id": "85f1c105",
   "metadata": {},
   "source": [
    "## Step 3: Phrase Modeling: Bigram and Trigram Models"
   ]
  },
  {
   "cell_type": "code",
   "execution_count": 42,
   "id": "7b97a788",
   "metadata": {},
   "outputs": [],
   "source": [
    "# Build the bigram and trigram models\n",
    "bigram = gensim.models.Phrases(data_words, min_count=5, threshold=100) # higher threshold fewer phrases.\n",
    "trigram = gensim.models.Phrases(bigram[data_words], threshold=100)  \n",
    "\n",
    "# Faster way to get a sentence clubbed as a trigram/bigram\n",
    "bigram_mod = gensim.models.phrases.Phraser(bigram)\n",
    "trigram_mod = gensim.models.phrases.Phraser(trigram)"
   ]
  },
  {
   "cell_type": "markdown",
   "id": "cee326ff",
   "metadata": {},
   "source": [
    "### Remove Stopwords, Make Bigrams and Lemmatize\n",
    "The phrase models are ready. Let’s define the functions to remove the stopwords, make trigrams and lemmatization and call them sequentially."
   ]
  },
  {
   "cell_type": "code",
   "execution_count": 45,
   "id": "b8fcb940",
   "metadata": {},
   "outputs": [
    {
     "name": "stderr",
     "output_type": "stream",
     "text": [
      "[nltk_data] Downloading package stopwords to\n",
      "[nltk_data]     C:\\Users\\FreeComp\\AppData\\Roaming\\nltk_data...\n",
      "[nltk_data]   Package stopwords is already up-to-date!\n"
     ]
    }
   ],
   "source": [
    "# NLTK Stop words\n",
    "import nltk\n",
    "nltk.download('stopwords')\n",
    "from nltk.corpus import stopwords\n",
    "\n",
    "stop_words = stopwords.words('english')"
   ]
  },
  {
   "cell_type": "code",
   "execution_count": 46,
   "id": "89bf0327",
   "metadata": {},
   "outputs": [
    {
     "data": {
      "text/plain": [
       "['i',\n",
       " 'me',\n",
       " 'my',\n",
       " 'myself',\n",
       " 'we',\n",
       " 'our',\n",
       " 'ours',\n",
       " 'ourselves',\n",
       " 'you',\n",
       " \"you're\",\n",
       " \"you've\",\n",
       " \"you'll\",\n",
       " \"you'd\",\n",
       " 'your',\n",
       " 'yours',\n",
       " 'yourself',\n",
       " 'yourselves',\n",
       " 'he',\n",
       " 'him',\n",
       " 'his',\n",
       " 'himself',\n",
       " 'she',\n",
       " \"she's\",\n",
       " 'her',\n",
       " 'hers',\n",
       " 'herself',\n",
       " 'it',\n",
       " \"it's\",\n",
       " 'its',\n",
       " 'itself',\n",
       " 'they',\n",
       " 'them',\n",
       " 'their',\n",
       " 'theirs',\n",
       " 'themselves',\n",
       " 'what',\n",
       " 'which',\n",
       " 'who',\n",
       " 'whom',\n",
       " 'this',\n",
       " 'that',\n",
       " \"that'll\",\n",
       " 'these',\n",
       " 'those',\n",
       " 'am',\n",
       " 'is',\n",
       " 'are',\n",
       " 'was',\n",
       " 'were',\n",
       " 'be',\n",
       " 'been',\n",
       " 'being',\n",
       " 'have',\n",
       " 'has',\n",
       " 'had',\n",
       " 'having',\n",
       " 'do',\n",
       " 'does',\n",
       " 'did',\n",
       " 'doing',\n",
       " 'a',\n",
       " 'an',\n",
       " 'the',\n",
       " 'and',\n",
       " 'but',\n",
       " 'if',\n",
       " 'or',\n",
       " 'because',\n",
       " 'as',\n",
       " 'until',\n",
       " 'while',\n",
       " 'of',\n",
       " 'at',\n",
       " 'by',\n",
       " 'for',\n",
       " 'with',\n",
       " 'about',\n",
       " 'against',\n",
       " 'between',\n",
       " 'into',\n",
       " 'through',\n",
       " 'during',\n",
       " 'before',\n",
       " 'after',\n",
       " 'above',\n",
       " 'below',\n",
       " 'to',\n",
       " 'from',\n",
       " 'up',\n",
       " 'down',\n",
       " 'in',\n",
       " 'out',\n",
       " 'on',\n",
       " 'off',\n",
       " 'over',\n",
       " 'under',\n",
       " 'again',\n",
       " 'further',\n",
       " 'then',\n",
       " 'once',\n",
       " 'here',\n",
       " 'there',\n",
       " 'when',\n",
       " 'where',\n",
       " 'why',\n",
       " 'how',\n",
       " 'all',\n",
       " 'any',\n",
       " 'both',\n",
       " 'each',\n",
       " 'few',\n",
       " 'more',\n",
       " 'most',\n",
       " 'other',\n",
       " 'some',\n",
       " 'such',\n",
       " 'no',\n",
       " 'nor',\n",
       " 'not',\n",
       " 'only',\n",
       " 'own',\n",
       " 'same',\n",
       " 'so',\n",
       " 'than',\n",
       " 'too',\n",
       " 'very',\n",
       " 's',\n",
       " 't',\n",
       " 'can',\n",
       " 'will',\n",
       " 'just',\n",
       " 'don',\n",
       " \"don't\",\n",
       " 'should',\n",
       " \"should've\",\n",
       " 'now',\n",
       " 'd',\n",
       " 'll',\n",
       " 'm',\n",
       " 'o',\n",
       " 're',\n",
       " 've',\n",
       " 'y',\n",
       " 'ain',\n",
       " 'aren',\n",
       " \"aren't\",\n",
       " 'couldn',\n",
       " \"couldn't\",\n",
       " 'didn',\n",
       " \"didn't\",\n",
       " 'doesn',\n",
       " \"doesn't\",\n",
       " 'hadn',\n",
       " \"hadn't\",\n",
       " 'hasn',\n",
       " \"hasn't\",\n",
       " 'haven',\n",
       " \"haven't\",\n",
       " 'isn',\n",
       " \"isn't\",\n",
       " 'ma',\n",
       " 'mightn',\n",
       " \"mightn't\",\n",
       " 'mustn',\n",
       " \"mustn't\",\n",
       " 'needn',\n",
       " \"needn't\",\n",
       " 'shan',\n",
       " \"shan't\",\n",
       " 'shouldn',\n",
       " \"shouldn't\",\n",
       " 'wasn',\n",
       " \"wasn't\",\n",
       " 'weren',\n",
       " \"weren't\",\n",
       " 'won',\n",
       " \"won't\",\n",
       " 'wouldn',\n",
       " \"wouldn't\"]"
      ]
     },
     "execution_count": 46,
     "metadata": {},
     "output_type": "execute_result"
    }
   ],
   "source": [
    "stop_words"
   ]
  },
  {
   "cell_type": "code",
   "execution_count": 47,
   "id": "dfb41b1d",
   "metadata": {},
   "outputs": [],
   "source": [
    "# Define functions for stopwords, bigrams, trigrams and lemmatization\n",
    "def remove_stopwords(texts):\n",
    "    return [[word for word in simple_preprocess(str(doc)) if word not in stop_words] for doc in texts]\n",
    "\n",
    "def make_bigrams(texts):\n",
    "    return [bigram_mod[doc] for doc in texts]\n",
    "\n",
    "def make_trigrams(texts):\n",
    "    return [trigram_mod[bigram_mod[doc]] for doc in texts]\n",
    "\n",
    "def lemmatization(texts, allowed_postags=['NOUN', 'ADJ', 'VERB', 'ADV']):\n",
    "    \"\"\"https://spacy.io/api/annotation\"\"\"\n",
    "    texts_out = []\n",
    "    for sent in texts:\n",
    "        doc = nlp(\" \".join(sent)) \n",
    "        texts_out.append([token.lemma_ for token in doc if token.pos_ in allowed_postags])\n",
    "    return texts_out"
   ]
  },
  {
   "cell_type": "code",
   "execution_count": 49,
   "id": "4c7ec170",
   "metadata": {},
   "outputs": [
    {
     "name": "stdout",
     "output_type": "stream",
     "text": [
      "Collecting en-core-web-sm==3.2.0"
     ]
    },
    {
     "name": "stderr",
     "output_type": "stream",
     "text": [
      "WARNING: You are using pip version 21.3.1; however, version 22.0.4 is available.\n",
      "You should consider upgrading via the 'C:\\Users\\FreeComp\\anaconda3\\envs\\data\\python.exe -m pip install --upgrade pip' command.\n"
     ]
    },
    {
     "name": "stdout",
     "output_type": "stream",
     "text": [
      "\n",
      "  Downloading https://github.com/explosion/spacy-models/releases/download/en_core_web_sm-3.2.0/en_core_web_sm-3.2.0-py3-none-any.whl (13.9 MB)\n",
      "Requirement already satisfied: spacy<3.3.0,>=3.2.0 in c:\\users\\freecomp\\anaconda3\\envs\\data\\lib\\site-packages (from en-core-web-sm==3.2.0) (3.2.4)\n",
      "Requirement already satisfied: tqdm<5.0.0,>=4.38.0 in c:\\users\\freecomp\\anaconda3\\envs\\data\\lib\\site-packages (from spacy<3.3.0,>=3.2.0->en-core-web-sm==3.2.0) (4.63.0)\n",
      "Requirement already satisfied: thinc<8.1.0,>=8.0.12 in c:\\users\\freecomp\\anaconda3\\envs\\data\\lib\\site-packages (from spacy<3.3.0,>=3.2.0->en-core-web-sm==3.2.0) (8.0.15)\n",
      "Requirement already satisfied: jinja2 in c:\\users\\freecomp\\anaconda3\\envs\\data\\lib\\site-packages (from spacy<3.3.0,>=3.2.0->en-core-web-sm==3.2.0) (3.0.3)\n",
      "Requirement already satisfied: numpy>=1.15.0 in c:\\users\\freecomp\\anaconda3\\envs\\data\\lib\\site-packages (from spacy<3.3.0,>=3.2.0->en-core-web-sm==3.2.0) (1.22.3)\n",
      "Requirement already satisfied: preshed<3.1.0,>=3.0.2 in c:\\users\\freecomp\\anaconda3\\envs\\data\\lib\\site-packages (from spacy<3.3.0,>=3.2.0->en-core-web-sm==3.2.0) (3.0.6)\n",
      "Requirement already satisfied: typer<0.5.0,>=0.3.0 in c:\\users\\freecomp\\anaconda3\\envs\\data\\lib\\site-packages (from spacy<3.3.0,>=3.2.0->en-core-web-sm==3.2.0) (0.4.1)\n",
      "Requirement already satisfied: cymem<2.1.0,>=2.0.2 in c:\\users\\freecomp\\anaconda3\\envs\\data\\lib\\site-packages (from spacy<3.3.0,>=3.2.0->en-core-web-sm==3.2.0) (2.0.6)\n",
      "Requirement already satisfied: click<8.1.0 in c:\\users\\freecomp\\anaconda3\\envs\\data\\lib\\site-packages (from spacy<3.3.0,>=3.2.0->en-core-web-sm==3.2.0) (8.0.4)\n",
      "Requirement already satisfied: catalogue<2.1.0,>=2.0.6 in c:\\users\\freecomp\\anaconda3\\envs\\data\\lib\\site-packages (from spacy<3.3.0,>=3.2.0->en-core-web-sm==3.2.0) (2.0.6)\n",
      "Requirement already satisfied: spacy-legacy<3.1.0,>=3.0.8 in c:\\users\\freecomp\\anaconda3\\envs\\data\\lib\\site-packages (from spacy<3.3.0,>=3.2.0->en-core-web-sm==3.2.0) (3.0.9)\n",
      "Requirement already satisfied: packaging>=20.0 in c:\\users\\freecomp\\anaconda3\\envs\\data\\lib\\site-packages (from spacy<3.3.0,>=3.2.0->en-core-web-sm==3.2.0) (21.3)\n",
      "Requirement already satisfied: murmurhash<1.1.0,>=0.28.0 in c:\\users\\freecomp\\anaconda3\\envs\\data\\lib\\site-packages (from spacy<3.3.0,>=3.2.0->en-core-web-sm==3.2.0) (1.0.6)\n",
      "Requirement already satisfied: pathy>=0.3.5 in c:\\users\\freecomp\\anaconda3\\envs\\data\\lib\\site-packages (from spacy<3.3.0,>=3.2.0->en-core-web-sm==3.2.0) (0.6.1)\n",
      "Requirement already satisfied: requests<3.0.0,>=2.13.0 in c:\\users\\freecomp\\anaconda3\\envs\\data\\lib\\site-packages (from spacy<3.3.0,>=3.2.0->en-core-web-sm==3.2.0) (2.27.1)\n",
      "Requirement already satisfied: blis<0.8.0,>=0.4.0 in c:\\users\\freecomp\\anaconda3\\envs\\data\\lib\\site-packages (from spacy<3.3.0,>=3.2.0->en-core-web-sm==3.2.0) (0.7.7)\n",
      "Requirement already satisfied: pydantic!=1.8,!=1.8.1,<1.9.0,>=1.7.4 in c:\\users\\freecomp\\anaconda3\\envs\\data\\lib\\site-packages (from spacy<3.3.0,>=3.2.0->en-core-web-sm==3.2.0) (1.8.2)\n",
      "Requirement already satisfied: langcodes<4.0.0,>=3.2.0 in c:\\users\\freecomp\\anaconda3\\envs\\data\\lib\\site-packages (from spacy<3.3.0,>=3.2.0->en-core-web-sm==3.2.0) (3.3.0)\n",
      "Requirement already satisfied: setuptools in c:\\users\\freecomp\\anaconda3\\envs\\data\\lib\\site-packages (from spacy<3.3.0,>=3.2.0->en-core-web-sm==3.2.0) (61.2.0)\n",
      "Requirement already satisfied: srsly<3.0.0,>=2.4.1 in c:\\users\\freecomp\\anaconda3\\envs\\data\\lib\\site-packages (from spacy<3.3.0,>=3.2.0->en-core-web-sm==3.2.0) (2.4.3)\n",
      "Requirement already satisfied: spacy-loggers<2.0.0,>=1.0.0 in c:\\users\\freecomp\\anaconda3\\envs\\data\\lib\\site-packages (from spacy<3.3.0,>=3.2.0->en-core-web-sm==3.2.0) (1.0.2)\n",
      "Requirement already satisfied: wasabi<1.1.0,>=0.8.1 in c:\\users\\freecomp\\anaconda3\\envs\\data\\lib\\site-packages (from spacy<3.3.0,>=3.2.0->en-core-web-sm==3.2.0) (0.9.1)\n",
      "Requirement already satisfied: colorama in c:\\users\\freecomp\\anaconda3\\envs\\data\\lib\\site-packages (from click<8.1.0->spacy<3.3.0,>=3.2.0->en-core-web-sm==3.2.0) (0.4.4)\n",
      "Requirement already satisfied: pyparsing!=3.0.5,>=2.0.2 in c:\\users\\freecomp\\anaconda3\\envs\\data\\lib\\site-packages (from packaging>=20.0->spacy<3.3.0,>=3.2.0->en-core-web-sm==3.2.0) (3.0.4)\n",
      "Requirement already satisfied: smart-open<6.0.0,>=5.0.0 in c:\\users\\freecomp\\anaconda3\\envs\\data\\lib\\site-packages (from pathy>=0.3.5->spacy<3.3.0,>=3.2.0->en-core-web-sm==3.2.0) (5.1.0)\n",
      "Requirement already satisfied: typing-extensions>=3.7.4.3 in c:\\users\\freecomp\\anaconda3\\envs\\data\\lib\\site-packages (from pydantic!=1.8,!=1.8.1,<1.9.0,>=1.7.4->spacy<3.3.0,>=3.2.0->en-core-web-sm==3.2.0) (4.1.1)\n",
      "Requirement already satisfied: certifi>=2017.4.17 in c:\\users\\freecomp\\anaconda3\\envs\\data\\lib\\site-packages (from requests<3.0.0,>=2.13.0->spacy<3.3.0,>=3.2.0->en-core-web-sm==3.2.0) (2021.10.8)\n",
      "Requirement already satisfied: urllib3<1.27,>=1.21.1 in c:\\users\\freecomp\\anaconda3\\envs\\data\\lib\\site-packages (from requests<3.0.0,>=2.13.0->spacy<3.3.0,>=3.2.0->en-core-web-sm==3.2.0) (1.26.8)\n",
      "Requirement already satisfied: idna<4,>=2.5 in c:\\users\\freecomp\\anaconda3\\envs\\data\\lib\\site-packages (from requests<3.0.0,>=2.13.0->spacy<3.3.0,>=3.2.0->en-core-web-sm==3.2.0) (3.3)\n",
      "Requirement already satisfied: charset-normalizer~=2.0.0 in c:\\users\\freecomp\\anaconda3\\envs\\data\\lib\\site-packages (from requests<3.0.0,>=2.13.0->spacy<3.3.0,>=3.2.0->en-core-web-sm==3.2.0) (2.0.4)\n",
      "Requirement already satisfied: MarkupSafe>=2.0 in c:\\users\\freecomp\\anaconda3\\envs\\data\\lib\\site-packages (from jinja2->spacy<3.3.0,>=3.2.0->en-core-web-sm==3.2.0) (2.0.1)\n",
      "Installing collected packages: en-core-web-sm\n",
      "Successfully installed en-core-web-sm-3.2.0\n",
      "[+] Download and installation successful\n",
      "You can now load the package via spacy.load('en_core_web_sm')\n"
     ]
    }
   ],
   "source": [
    "!python -m spacy download en_core_web_sm"
   ]
  },
  {
   "cell_type": "code",
   "execution_count": 50,
   "id": "08779d25",
   "metadata": {},
   "outputs": [
    {
     "name": "stdout",
     "output_type": "stream",
     "text": [
      "['coordination', 'cv', 'commonly', 'analyze', 'understand', 'dynamical', 'quality', 'human', 'locomotion', 'purpose', 'study', 'develop', 'guideline', 'number', 'trial', 'require', 'inform', 'calculation', 'stable', 'mean', 'cv', 'overground', 'locomotion', 'kinematic', 'capture', 'recreational', 'runner', 'perform', 'trial', 'preferred']\n"
     ]
    }
   ],
   "source": [
    "import spacy\n",
    "\n",
    "# Remove Stop Words\n",
    "data_words_nostops = remove_stopwords(data_words)\n",
    "\n",
    "# Form Bigrams\n",
    "data_words_bigrams = make_bigrams(data_words_nostops)\n",
    "\n",
    "# Initialize spacy 'en' model, keeping only tagger component (for efficiency)\n",
    "nlp = spacy.load(\"en_core_web_sm\", disable=['parser', 'ner'])\n",
    "\n",
    "# Do lemmatization keeping only noun, adj, vb, adv\n",
    "data_lemmatized = lemmatization(data_words_bigrams, allowed_postags=['NOUN', 'ADJ', 'VERB', 'ADV'])\n",
    "\n",
    "print(data_lemmatized[:1][0][:30])"
   ]
  },
  {
   "cell_type": "markdown",
   "id": "3b63536a",
   "metadata": {},
   "source": [
    "## Step 4: Data transformation: Corpus and Dictionary\n",
    "The two main inputs to the LDA topic model are the dictionary(id2word) and the corpus. "
   ]
  },
  {
   "cell_type": "code",
   "execution_count": 51,
   "id": "c595e21a",
   "metadata": {},
   "outputs": [
    {
     "name": "stdout",
     "output_type": "stream",
     "text": [
      "[(0, 1), (1, 1), (2, 1), (3, 1), (4, 1), (5, 1), (6, 1), (7, 1), (8, 2), (9, 1), (10, 1), (11, 1), (12, 1), (13, 1), (14, 1), (15, 6), (16, 1), (17, 1), (18, 1), (19, 1), (20, 1), (21, 1), (22, 1), (23, 2), (24, 1), (25, 1), (26, 1), (27, 1), (28, 1), (29, 1)]\n"
     ]
    }
   ],
   "source": [
    "import gensim.corpora as corpora\n",
    "\n",
    "# Create Dictionary\n",
    "id2word = corpora.Dictionary(data_lemmatized)\n",
    "\n",
    "# Create Corpus\n",
    "texts = data_lemmatized\n",
    "\n",
    "# Term Document Frequency\n",
    "corpus = [id2word.doc2bow(text) for text in texts]\n",
    "\n",
    "# View\n",
    "print(corpus[:1][0][:30])"
   ]
  },
  {
   "cell_type": "markdown",
   "id": "6dab9b68",
   "metadata": {},
   "source": [
    "## Step 5: Base Model"
   ]
  },
  {
   "cell_type": "code",
   "execution_count": 52,
   "id": "c86cfcb2",
   "metadata": {},
   "outputs": [],
   "source": [
    "# Build LDA model\n",
    "lda_model = gensim.models.LdaMulticore(corpus=corpus,\n",
    "                                       id2word=id2word,\n",
    "                                       num_topics=10, \n",
    "                                       random_state=100,\n",
    "                                       chunksize=100,\n",
    "                                       passes=10,\n",
    "                                       per_word_topics=True)"
   ]
  },
  {
   "cell_type": "code",
   "execution_count": 56,
   "id": "33492260",
   "metadata": {
    "scrolled": true
   },
   "outputs": [
    {
     "name": "stdout",
     "output_type": "stream",
     "text": [
      "[(0,\n",
      "  '0.020*\"cell\" + 0.013*\"protein\" + 0.008*\"expression\" + 0.007*\"use\" + '\n",
      "  '0.007*\"gene\" + 0.006*\"study\" + 0.006*\"induce\" + 0.005*\"show\" + '\n",
      "  '0.005*\"mechanism\" + 0.005*\"role\"'),\n",
      " (1,\n",
      "  '0.014*\"patient\" + 0.008*\"study\" + 0.008*\"use\" + 0.007*\"treatment\" + '\n",
      "  '0.007*\"bone\" + 0.007*\"follow\" + 0.006*\"case\" + 0.006*\"surgical\" + '\n",
      "  '0.005*\"perform\" + 0.005*\"group\"'),\n",
      " (2,\n",
      "  '0.037*\"patient\" + 0.017*\"group\" + 0.012*\"study\" + 0.010*\"treatment\" + '\n",
      "  '0.010*\"high\" + 0.009*\"risk\" + 0.008*\"year\" + 0.008*\"age\" + 0.008*\"day\" + '\n",
      "  '0.008*\"use\"'),\n",
      " (3,\n",
      "  '0.040*\"specie\" + 0.016*\"new\" + 0.011*\"describe\" + 0.007*\"genus\" + '\n",
      "  '0.007*\"study\" + 0.006*\"base\" + 0.006*\"include\" + 0.006*\"provide\" + '\n",
      "  '0.006*\"region\" + 0.005*\"distribution\"'),\n",
      " (4,\n",
      "  '0.005*\"drought\" + 0.005*\"chapter\" + 0.004*\"allergy\" + 0.004*\"epitope\" + '\n",
      "  '0.003*\"formulation\" + 0.003*\"allergic\" + 0.003*\"fetus\" + 0.003*\"starch\" + '\n",
      "  '0.003*\"plaque\" + 0.003*\"pot\"'),\n",
      " (5,\n",
      "  '0.016*\"patient\" + 0.012*\"disease\" + 0.011*\"infection\" + 0.010*\"case\" + '\n",
      "  '0.008*\"study\" + 0.008*\"clinical\" + 0.008*\"cancer\" + 0.006*\"tumor\" + '\n",
      "  '0.006*\"covid\" + 0.006*\"treatment\"'),\n",
      " (6,\n",
      "  '0.010*\"task\" + 0.008*\"brain\" + 0.007*\"network\" + 0.006*\"study\" + '\n",
      "  '0.006*\"use\" + 0.006*\"function\" + 0.005*\"movement\" + 0.005*\"cognitive\" + '\n",
      "  '0.005*\"motor\" + 0.005*\"control\"'),\n",
      " (7,\n",
      "  '0.019*\"study\" + 0.014*\"use\" + 0.011*\"health\" + 0.006*\"intervention\" + '\n",
      "  '0.006*\"datum\" + 0.006*\"risk\" + 0.006*\"patient\" + 0.006*\"include\" + '\n",
      "  '0.006*\"covid\" + 0.005*\"high\"'),\n",
      " (8,\n",
      "  '0.017*\"child\" + 0.015*\"health\" + 0.010*\"care\" + 0.008*\"use\" + 0.007*\"study\" '\n",
      "  '+ 0.006*\"research\" + 0.006*\"service\" + 0.005*\"experience\" + '\n",
      "  '0.005*\"community\" + 0.005*\"social\"'),\n",
      " (9,\n",
      "  '0.018*\"use\" + 0.010*\"model\" + 0.009*\"method\" + 0.008*\"high\" + 0.008*\"study\" '\n",
      "  '+ 0.007*\"result\" + 0.006*\"base\" + 0.006*\"show\" + 0.006*\"datum\" + '\n",
      "  '0.005*\"different\"')]\n"
     ]
    }
   ],
   "source": [
    "from pprint import pprint\n",
    "\n",
    "# Print the Keyword in the 10 topics\n",
    "pprint(lda_model.print_topics())\n",
    "doc_lda = lda_model[corpus]"
   ]
  },
  {
   "cell_type": "markdown",
   "id": "1dd856de",
   "metadata": {},
   "source": [
    "### Compute Model Perplexity and Coherence Score"
   ]
  },
  {
   "cell_type": "code",
   "execution_count": 57,
   "id": "e9baaf15",
   "metadata": {},
   "outputs": [
    {
     "name": "stdout",
     "output_type": "stream",
     "text": [
      "Coherence Score:  0.4148432180785776\n"
     ]
    }
   ],
   "source": [
    "from gensim.models import CoherenceModel\n",
    "\n",
    "# Compute Coherence Score\n",
    "coherence_model_lda = CoherenceModel(model=lda_model, texts=data_lemmatized, dictionary=id2word, coherence='c_v')\n",
    "coherence_lda = coherence_model_lda.get_coherence()\n",
    "print('Coherence Score: ', coherence_lda)"
   ]
  },
  {
   "cell_type": "code",
   "execution_count": null,
   "id": "f61c146a",
   "metadata": {},
   "outputs": [],
   "source": []
  }
 ],
 "metadata": {
  "kernelspec": {
   "display_name": "Python 3 (ipykernel)",
   "language": "python",
   "name": "python3"
  },
  "language_info": {
   "codemirror_mode": {
    "name": "ipython",
    "version": 3
   },
   "file_extension": ".py",
   "mimetype": "text/x-python",
   "name": "python",
   "nbconvert_exporter": "python",
   "pygments_lexer": "ipython3",
   "version": "3.8.5"
  }
 },
 "nbformat": 4,
 "nbformat_minor": 5
}
